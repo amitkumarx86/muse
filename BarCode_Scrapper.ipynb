{
 "cells": [
  {
   "cell_type": "code",
   "execution_count": 66,
   "metadata": {
    "scrolled": true
   },
   "outputs": [
    {
     "name": "stdout",
     "output_type": "stream",
     "text": [
      "Surf excel bar\n"
     ]
    },
    {
     "name": "stderr",
     "output_type": "stream",
     "text": [
      "/home/amit/anaconda3/lib/python3.6/site-packages/bs4/__init__.py:181: UserWarning: No parser was explicitly specified, so I'm using the best available HTML parser for this system (\"lxml\"). This usually isn't a problem, but if you run this code on another system, or in a different virtual environment, it may use a different parser and behave differently.\n",
      "\n",
      "The code that caused this warning is on line 193 of the file /home/amit/anaconda3/lib/python3.6/runpy.py. To get rid of this warning, change code that looks like this:\n",
      "\n",
      " BeautifulSoup(YOUR_MARKUP})\n",
      "\n",
      "to this:\n",
      "\n",
      " BeautifulSoup(YOUR_MARKUP, \"lxml\")\n",
      "\n",
      "  markup_type=markup_type))\n"
     ]
    }
   ],
   "source": [
    "import requests\n",
    "from bs4 import BeautifulSoup\n",
    "research_later = \"8901030341663\"\n",
    "goog_search = \"https://www.google.co.in/search?dcr=0&source=hp&q=8901030341663\"\n",
    "\n",
    "r = requests.get(goog_search)\n",
    "\n",
    "soup = BeautifulSoup(r.text, \"html.parser\")\n",
    "# print(soup.findAll(\"a\"))\n",
    "links = soup.findAll(\"a\")\n",
    "url = \"\"\n",
    "for link in links:\n",
    "    if \"buycott\" in str(link):\n",
    "        url = link.get('href').split(\"?q=\")[1].split(\"&\")[0]\n",
    "        break\n",
    "\n",
    "\n",
    "\n",
    "import urllib.request\n",
    "with urllib.request.urlopen(url) as url:\n",
    "    s = url.read()\n",
    "  \n",
    "soup = BeautifulSoup(s)\n",
    "table = soup.find(\"table\",attrs={'class':'table product_info_table'})\n",
    "print(table.find(\"a\").text)"
   ]
  }
 ],
 "metadata": {
  "kernelspec": {
   "display_name": "Python 3",
   "language": "python",
   "name": "python3"
  },
  "language_info": {
   "codemirror_mode": {
    "name": "ipython",
    "version": 3
   },
   "file_extension": ".py",
   "mimetype": "text/x-python",
   "name": "python",
   "nbconvert_exporter": "python",
   "pygments_lexer": "ipython3",
   "version": "3.6.1"
  }
 },
 "nbformat": 4,
 "nbformat_minor": 2
}
